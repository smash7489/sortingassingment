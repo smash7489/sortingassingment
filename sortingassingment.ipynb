{
 "cells": [
  {
   "cell_type": "code",
   "execution_count": 2,
   "id": "32ac8a07-8237-4d46-9433-5022c5850307",
   "metadata": {},
   "outputs": [
    {
     "data": {
      "text/plain": [
       "3"
      ]
     },
     "execution_count": 2,
     "metadata": {},
     "output_type": "execute_result"
    }
   ],
   "source": [
    "#Problem 1.Given an array of n numbers, give an algorithm which gives the element appearing maximum\n",
    "# number of times?\n",
    "\n",
    "def max_freq_hash(arr):\n",
    "    counts = {}\n",
    "    max_count = 0\n",
    "    result = None\n",
    "    for x in arr:\n",
    "        counts[x] = counts.get(x, 0) + 1\n",
    "        if counts[x] > max_count or (counts[x] == max_count and (result is None or x > result)):\n",
    "            max_count = counts[x]\n",
    "            result = x\n",
    "    return result\n",
    "\n",
    "\n",
    "#drive code\n",
    "\n",
    "a = [2,3,2,33,3,3,3,2,1]\n",
    "max_freq_hash(a)"
   ]
  },
  {
   "cell_type": "code",
   "execution_count": 5,
   "id": "fccd8443-75f4-45bd-942d-700b63e250c8",
   "metadata": {},
   "outputs": [
    {
     "name": "stdout",
     "output_type": "stream",
     "text": [
      "5\n",
      "10\n"
     ]
    }
   ],
   "source": [
    "\"\"\"Problem 2 : We are given a list of n-1 integers and these integers are in the range of 1 to n . There are no\n",
    "duplicates in the list. One of the integers is missing in the list. Give an algorithm to find that element Ex:\n",
    "[1,2,4,6,3,7,8] 5 is the missing num.\"\"\"\n",
    "\n",
    "\n",
    "def missingnum(arr):\n",
    "    n = len(arr) + 1\n",
    "    expect = n*(n+1)//2\n",
    "    actual = sum(arr)\n",
    "    missing = expect - actual\n",
    "    print(missing)\n",
    "\n",
    "a = [1,2,4,6,3,7,8]\n",
    "missingnum(a)\n",
    "\n",
    "b = [1,2,3,4,5,6,7,8,9,11,12,13]\n",
    "missingnum(b)\n"
   ]
  },
  {
   "cell_type": "code",
   "execution_count": 17,
   "id": "556bb81c-5e82-43a0-b940-e74c942e966c",
   "metadata": {},
   "outputs": [
    {
     "data": {
      "text/plain": [
       "3"
      ]
     },
     "execution_count": 17,
     "metadata": {},
     "output_type": "execute_result"
    }
   ],
   "source": [
    "\"\"\"Problem 3 : Given an array of n positive numbers. All numbers occurs even number of times except 1 which\n",
    "occurs odd number of times. Find that number in O(n) time and O(1) space. Ex: [1,2,3,2,3,1,3]. 3 is repeats odd\n",
    "times.\"\"\"\n",
    "\n",
    "def oddnum(arr):\n",
    "    for num in arr:\n",
    "        result = 0\n",
    "        result ^= num\n",
    "    return result\n",
    "arr = [1, 2, 3, 2, 3, 1, 3]\n",
    "\n",
    "oddnum(arr)"
   ]
  },
  {
   "cell_type": "code",
   "execution_count": 24,
   "id": "88045933-b45d-4741-a03b-f8e941971350",
   "metadata": {},
   "outputs": [
    {
     "data": {
      "text/plain": [
       "(4, 6)"
      ]
     },
     "execution_count": 24,
     "metadata": {},
     "output_type": "execute_result"
    }
   ],
   "source": [
    "# Problem 4 : Given an array of n elements. Find two elements in the array such that their sum is equal to given\n",
    "# element K.\n",
    "\n",
    "\n",
    "\n",
    "def find_two_sum(arr,target):\n",
    "    seen = {}\n",
    "    for i ,num in enumerate(arr):\n",
    "        complement = target - num\n",
    "        if complement in seen:\n",
    "            return (complement, num)\n",
    "        seen[num] = i\n",
    "    return None\n",
    "\n",
    "\n",
    "a = [1,2,3,4,5,6,7,8,9]\n",
    "find_two_sum(a,10)\n",
    "\n",
    "\n",
    "\n"
   ]
  },
  {
   "cell_type": "code",
   "execution_count": 25,
   "id": "64a4623a-5be9-4bf3-8f59-5728d6b7d2d2",
   "metadata": {},
   "outputs": [
    {
     "data": {
      "text/plain": [
       "(-80, 85)"
      ]
     },
     "execution_count": 25,
     "metadata": {},
     "output_type": "execute_result"
    }
   ],
   "source": [
    "\"\"\"Problem 5 : Given an array of both positive and negative numbers, find two numbers such that their sum is\n",
    "closest to 0. Ex: [ 1 ,60 ,-10, 70, -80,85]. Ans : -80,85.\"\"\"\n",
    "\n",
    "\n",
    "\n",
    "def pair_closest_to_zero(arr):\n",
    "    arr.sort()\n",
    "    left, right = 0, len(arr) - 1\n",
    "    best_pair = (arr[left], arr[right])\n",
    "    best_sum = arr[left] + arr[right]\n",
    "\n",
    "    while left < right:\n",
    "        current_sum = arr[left] + arr[right]\n",
    "\n",
    "        # Update best if closer to zero or same closeness but larger sum\n",
    "        if abs(current_sum) < abs(best_sum) or (\n",
    "           abs(current_sum) == abs(best_sum) and current_sum > best_sum):\n",
    "            best_sum = current_sum\n",
    "            best_pair = (arr[left], arr[right])\n",
    "\n",
    "        # Move pointers based on sum\n",
    "        if current_sum < 0:\n",
    "            left += 1\n",
    "        elif current_sum > 0:\n",
    "            right -= 1\n",
    "        else:\n",
    "            # Perfect zero, nothing can beat this\n",
    "            break\n",
    "\n",
    "    return best_pair\n",
    "\n",
    "\n",
    "arr = [ 1 ,60 ,-10, 70, -80,85]\n",
    "pair_closest_to_zero(arr)"
   ]
  },
  {
   "cell_type": "code",
   "execution_count": 29,
   "id": "7ee952be-9dc9-4276-b2a5-fae0482aeee6",
   "metadata": {},
   "outputs": [
    {
     "data": {
      "text/plain": [
       "[-80, -10, 1, 60, 70, 85]"
      ]
     },
     "execution_count": 29,
     "metadata": {},
     "output_type": "execute_result"
    }
   ],
   "source": [
    "b = arr.sort()\n",
    "arr"
   ]
  },
  {
   "cell_type": "code",
   "execution_count": 30,
   "id": "f044593f-1711-4247-ac00-567658918027",
   "metadata": {},
   "outputs": [
    {
     "name": "stdout",
     "output_type": "stream",
     "text": [
      "[[1, 4, 8]]\n"
     ]
    }
   ],
   "source": [
    "\"\"\"Problem 6 : Given an array of n elements . Find three elements such that their sum is equal to the given\n",
    "number.\"\"\"\n",
    "\n",
    "def three_sum_target(nums, target):\n",
    "    nums.sort()\n",
    "    n = len(nums)\n",
    "    triplets = []\n",
    "\n",
    "    for i in range(n - 2):\n",
    "        # Skip duplicate first elements\n",
    "        if i > 0 and nums[i] == nums[i - 1]:\n",
    "            continue\n",
    "\n",
    "        left, right = i + 1, n - 1\n",
    "        while left < right:\n",
    "            current_sum = nums[i] + nums[left] + nums[right]\n",
    "\n",
    "            if current_sum == target:\n",
    "                triplets.append([nums[i], nums[left], nums[right]])\n",
    "\n",
    "                # Move pointers and skip duplicates\n",
    "                left += 1\n",
    "                right -= 1\n",
    "                while left < right and nums[left] == nums[left - 1]:\n",
    "                    left += 1\n",
    "                while left < right and nums[right] == nums[right + 1]:\n",
    "                    right -= 1\n",
    "\n",
    "            elif current_sum < target:\n",
    "                left += 1\n",
    "            else:\n",
    "                right -= 1\n",
    "\n",
    "    return triplets\n",
    "\n",
    "# Example:\n",
    "arr = [1, 4, 45, 6, 10, 8]\n",
    "print(three_sum_target(arr, 13))\n",
    "# → [[1, 4, 8], [1, 6, 6]]  (if 6 appeared twice)\n",
    "\n"
   ]
  },
  {
   "cell_type": "code",
   "execution_count": 31,
   "id": "e7f7da99-7f5e-4a62-a981-210716859a3f",
   "metadata": {},
   "outputs": [
    {
     "name": "stdout",
     "output_type": "stream",
     "text": [
      "(1, 4, 6)\n"
     ]
    }
   ],
   "source": [
    "#Problem 7 : Given an array of n elements . Find three elements i, j, k in the array such that\n",
    "#i * i + j * j = k*k.\n",
    "\n",
    "def find_pythagorean_triplet(arr):\n",
    "    n = len(arr)\n",
    "    # 1. Square all values\n",
    "    sq = [x*x for x in arr]\n",
    "    # 2. Sort the squared list\n",
    "    sq.sort()  \n",
    "\n",
    "    # 3. Fix c and run two-pointer for a + b = c\n",
    "    for k in range(n - 1, 1, -1):\n",
    "        c_val = sq[k]\n",
    "        left, right = 0, k - 1\n",
    "\n",
    "        while left < right:\n",
    "            s = sq[left] + sq[right]\n",
    "            if s == c_val:\n",
    "                # Return original values, restoring sign\n",
    "                a, b, c = arr[left], arr[right], arr[k]\n",
    "                return (abs(a), abs(b), abs(c))\n",
    "            elif s < c_val:\n",
    "                left += 1\n",
    "            else:\n",
    "                right -= 1\n",
    "\n",
    "    return None  # no triplet found\n",
    "\n",
    "# Example:\n",
    "arr = [3, 1, 4, 6, 5]\n",
    "print(find_pythagorean_triplet(arr))  # → (3, 4, 5)\n",
    "\n"
   ]
  },
  {
   "cell_type": "code",
   "execution_count": 32,
   "id": "9f3e6240-6690-4678-973f-66d34bc5b570",
   "metadata": {},
   "outputs": [
    {
     "data": {
      "text/plain": [
       "2"
      ]
     },
     "execution_count": 32,
     "metadata": {},
     "output_type": "execute_result"
    }
   ],
   "source": [
    "\"\"\"Problem 8 : An element is a majority if it appears more than n/2 times. Give an algorithm takes an array of n\n",
    "element as argument and identifies a majority (if it exists).\"\"\"\n",
    "\n",
    "def find_majority_element(arr):\n",
    "    # Phase 1: Find candidate\n",
    "    candidate = None\n",
    "    count = 0\n",
    "    for num in arr:\n",
    "        if count == 0:\n",
    "            candidate = num\n",
    "            count = 1\n",
    "        elif num == candidate:\n",
    "            count += 1\n",
    "        else:\n",
    "            count -= 1\n",
    "\n",
    "    # Phase 2: Verify candidate\n",
    "    if arr.count(candidate) > len(arr) // 2:\n",
    "        return candidate\n",
    "    return None  # No majority element\n",
    "arr = [2, 1, 2, 3, 2, 4, 2]\n",
    "\n",
    "find_majority_element(arr)"
   ]
  },
  {
   "cell_type": "code",
   "execution_count": null,
   "id": "3df3e58e-f528-467c-9f0c-23869ec6a477",
   "metadata": {},
   "outputs": [],
   "source": [
    "\"\"\"Problem 10 : Sort an array of 0’s, 1’s and 2’s [or R’s, G’s and B’s]: Given an array A[] consisting of 0’s, 1’s and\n",
    "2’s, give an algorithm for sorting A[].The algorithm should put all 0’s first, then all 1’s and finally all 2’s at the\n",
    "end. Example Input = {0,1,1,0,1,2,1,2,0,0,0,1}, Output = {0,0,0,0,0,1,1,1,1,1,2,2}.\"\"\"\n",
    "\n",
    "\n"
   ]
  }
 ],
 "metadata": {
  "kernelspec": {
   "display_name": "Python 3 (ipykernel)",
   "language": "python",
   "name": "python3"
  },
  "language_info": {
   "codemirror_mode": {
    "name": "ipython",
    "version": 3
   },
   "file_extension": ".py",
   "mimetype": "text/x-python",
   "name": "python",
   "nbconvert_exporter": "python",
   "pygments_lexer": "ipython3",
   "version": "3.12.7"
  }
 },
 "nbformat": 4,
 "nbformat_minor": 5
}
